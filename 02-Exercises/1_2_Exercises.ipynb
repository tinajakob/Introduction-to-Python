{
  "nbformat": 4,
  "nbformat_minor": 0,
  "metadata": {
    "colab": {
      "provenance": []
    },
    "kernelspec": {
      "name": "python3",
      "display_name": "Python 3"
    }
  },
  "cells": [
    {
      "cell_type": "markdown",
      "metadata": {
        "id": "U3zPuM3zuwFT"
      },
      "source": [
        "*Part 1: Introduction to Python Syntax and Semantics II*\n",
        "### Python Basics: Control flow###\n"
      ]
    },
    {
      "cell_type": "markdown",
      "metadata": {
        "id": "oSmRXMj0maYO"
      },
      "source": [
        "<font color='red'> If you like you can give a quick feedback: Was this excercise rather to easy/difficult/too much/too little?</font>"
      ]
    },
    {
      "cell_type": "code",
      "metadata": {
        "id": "enZxl4TWmxm0"
      },
      "source": [
        "# You may put your feedback here "
      ],
      "execution_count": null,
      "outputs": []
    },
    {
      "cell_type": "markdown",
      "metadata": {
        "id": "ZNfwF4k_nIQ6"
      },
      "source": [
        "#Exercises#"
      ]
    },
    {
      "cell_type": "markdown",
      "metadata": {
        "id": "U2hSLoyOBc1C"
      },
      "source": [
        "## 1. Basic exercises"
      ]
    },
    {
      "cell_type": "markdown",
      "metadata": {
        "id": "LptzcrKbZFbm"
      },
      "source": [
        "### Conditions"
      ]
    },
    {
      "cell_type": "markdown",
      "metadata": {
        "id": "0m_deTVYaSPF"
      },
      "source": [
        "**1.1.**\n",
        "Write a program with a parameter ``my_str`` that prints \"This string contains the letter a\" if ``my_string`` contains an \"a\" and nothing otherwise. Test if your program works by assigning different strings to ``my_string`` and re-running your code."
      ]
    },
    {
      "cell_type": "code",
      "metadata": {
        "id": "M_gtjOpga9vF"
      },
      "source": [],
      "execution_count": null,
      "outputs": []
    },
    {
      "cell_type": "markdown",
      "metadata": {
        "id": "MrpuL0LDczAt"
      },
      "source": [
        "Now, improve your program so that it prints \"This string does not contain the letter a\" if the condition is not met."
      ]
    },
    {
      "cell_type": "code",
      "metadata": {
        "id": "zaATfGeCdNJk"
      },
      "source": [],
      "execution_count": null,
      "outputs": []
    },
    {
      "cell_type": "markdown",
      "metadata": {
        "id": "M9uYpknnXj-f"
      },
      "source": [
        "**1.2.** Write a \"program\" that prints the square root of a variable ``x`` if this number is positive or 0 and prints \"Not defined!\" otherwise. "
      ]
    },
    {
      "cell_type": "code",
      "metadata": {
        "id": "_HiGHbPLYner"
      },
      "source": [],
      "execution_count": null,
      "outputs": []
    },
    {
      "cell_type": "markdown",
      "metadata": {
        "id": "45W8RXLYZtbN"
      },
      "source": [
        "**1.3.** Write a program with parameters ``a`` and ``b`` that prints \"a is greater than b\", \"b is greater than a\" or \"a and b are equal\" depending on the values of the two numbers. "
      ]
    },
    {
      "cell_type": "code",
      "metadata": {
        "id": "VB1750aMeI6b"
      },
      "source": [],
      "execution_count": null,
      "outputs": []
    },
    {
      "cell_type": "markdown",
      "metadata": {
        "id": "-qoXx_idiB0O"
      },
      "source": [
        "**1.4.** Run the following two code examples and inspect the output. Why is the output different? (That is, try to explain in your own words what the difference is between ``if`` and ``elif``.)"
      ]
    },
    {
      "cell_type": "code",
      "metadata": {
        "id": "-tSTpM55sVn0"
      },
      "source": [
        "my_number = 11\n",
        "\n",
        "if my_number > 10: \n",
        "  print(\"the number is greater than 10\")\n",
        "if my_number > 5:\n",
        "  print(\"the number is greater than 5\")\n",
        "if my_number > 0:\n",
        "  print(\"the number is greater than 0\")"
      ],
      "execution_count": null,
      "outputs": []
    },
    {
      "cell_type": "code",
      "metadata": {
        "id": "ExNJF-Ov9CG5",
        "colab": {
          "base_uri": "https://localhost:8080/"
        },
        "outputId": "d4b52cb2-c28b-4f73-f379-993da4a44c6b"
      },
      "source": [
        "if my_number > 10: \n",
        "  print(\"the number is greater than 10\")\n",
        "elif my_number > 5:\n",
        "  print(\"the number is greater than 5\")\n",
        "elif my_number > 0:\n",
        "  print(\"the number is greater than 0\")"
      ],
      "execution_count": null,
      "outputs": [
        {
          "output_type": "stream",
          "name": "stdout",
          "text": [
            "the number is greater than 10\n"
          ]
        }
      ]
    },
    {
      "cell_type": "markdown",
      "metadata": {
        "id": "LUO3NUprsjin"
      },
      "source": [
        "YOUR ANSWER GOES HERE\n"
      ]
    },
    {
      "cell_type": "markdown",
      "metadata": {
        "id": "j-J9YsGZZQ6-"
      },
      "source": [
        "### Loops\n",
        "\n",
        "\n"
      ]
    },
    {
      "cell_type": "markdown",
      "metadata": {
        "id": "sU5ZEKOm0ito"
      },
      "source": [
        "**1.5.** Create variable ``L`` and assign it the list ``[4, 3, 4, 2, 1, 0, 5, 8]``. Loop through the list and print out the square of each element. "
      ]
    },
    {
      "cell_type": "code",
      "metadata": {
        "id": "BK0CoYd_0Wkk"
      },
      "source": [],
      "execution_count": null,
      "outputs": []
    },
    {
      "cell_type": "markdown",
      "metadata": {
        "id": "kgL-rPLik7V-"
      },
      "source": [
        "Now, print the output of each iteration as a string stating what the square of each element is (i.e. \"The square of 4 is 16.\" etc.)!"
      ]
    },
    {
      "cell_type": "code",
      "metadata": {
        "id": "_tqL9_xKk6yp"
      },
      "source": [],
      "execution_count": null,
      "outputs": []
    },
    {
      "cell_type": "markdown",
      "metadata": {
        "id": "X9s0h3X82RXO"
      },
      "source": [
        "Now, write a loop that computes the sum of all  elements in the list.\n"
      ]
    },
    {
      "cell_type": "code",
      "metadata": {
        "id": "GusooXuj4HsL"
      },
      "source": [],
      "execution_count": null,
      "outputs": []
    },
    {
      "cell_type": "markdown",
      "metadata": {
        "id": "TizdwJx-548K"
      },
      "source": [
        "**1.6.** Create a variable called ``reversed_dict`` and assign it the following dictionary: ``{'green': 'pear', 'red': 'apple', 'yellow': 'banana'}``. Write a loop that creates a new dictionary called ``correct_dict`` where the keys and the values are interchanged (i.e. ``{'apple': 'red', 'banana': 'yellow', 'pear': 'green'}``"
      ]
    },
    {
      "cell_type": "code",
      "metadata": {
        "id": "VMKS4iR8Luku"
      },
      "source": [],
      "execution_count": null,
      "outputs": []
    },
    {
      "cell_type": "markdown",
      "metadata": {
        "id": "REy1EE-N5l_5"
      },
      "source": [
        "**1.7.** Use a ``while`` loop to create the following list: [0, 1, 2, 3, 4, 5, 6, 7, 8, 9, 10, 11, 12, 13, 14, 15, 16, 17, 18, 19, 20]"
      ]
    },
    {
      "cell_type": "code",
      "metadata": {
        "id": "NHHPkyDlZQae"
      },
      "source": [],
      "execution_count": null,
      "outputs": []
    },
    {
      "cell_type": "markdown",
      "metadata": {
        "id": "w3zRyPynZkim"
      },
      "source": [
        "### List comprehensions"
      ]
    },
    {
      "cell_type": "markdown",
      "metadata": {
        "id": "XmR2JS3yV5f3"
      },
      "source": [
        "**1.8.** Consider the following loop:"
      ]
    },
    {
      "cell_type": "code",
      "metadata": {
        "id": "M6cXYPprV-J1"
      },
      "source": [
        "letters = \"abcdefghijklmnopqrstuvwxyz\"\n",
        "\n",
        "letter_list = []\n",
        "for letter in letters:\n",
        "  letter_list.append(letter)\n",
        "\n",
        "print(letter_list)"
      ],
      "execution_count": null,
      "outputs": []
    },
    {
      "cell_type": "markdown",
      "metadata": {
        "id": "eIni0ReHV-4W"
      },
      "source": [
        "Can you rewrite this as a list comprehension?"
      ]
    },
    {
      "cell_type": "code",
      "metadata": {
        "id": "neD4qcuhceso"
      },
      "source": [],
      "execution_count": null,
      "outputs": []
    },
    {
      "cell_type": "markdown",
      "metadata": {
        "id": "YUy7nsYhc6w_"
      },
      "source": [
        "Create a list (using list comprehension) called ``consonants_list`` from your string of letters. It should include all letters except vowels, that is, it should look like this: ``['b', 'c', 'd', 'f', 'g' ...]``."
      ]
    },
    {
      "cell_type": "code",
      "metadata": {
        "id": "QhAv1xk-eILW"
      },
      "source": [
        "letters = \"abcdefghijklmnopqrstuvwxyz\"\n",
        "vowels = \"aeiou\"\n"
      ],
      "execution_count": null,
      "outputs": []
    },
    {
      "cell_type": "markdown",
      "metadata": {
        "id": "I5fGuENsxWXa"
      },
      "source": [
        "## 2. Advanced exercises"
      ]
    },
    {
      "cell_type": "markdown",
      "metadata": {
        "id": "wsxIifFrj0Sn"
      },
      "source": [
        "### Loops and conditions\n"
      ]
    },
    {
      "cell_type": "markdown",
      "metadata": {
        "id": "F6yrSLI-vayh"
      },
      "source": [
        "**2.1** Write a loop that finds and prints the largest element of the list ``my_list = [1, 2, 1, 6, 5, 7, 3, 2, 10, 5]``. "
      ]
    },
    {
      "cell_type": "code",
      "metadata": {
        "id": "Dx2KpF2hvaRy"
      },
      "source": [],
      "execution_count": null,
      "outputs": []
    },
    {
      "cell_type": "markdown",
      "metadata": {
        "id": "OfzZnMTgE04M"
      },
      "source": [
        "Now extend your loop that it also finds the index of the maximum.\n"
      ]
    },
    {
      "cell_type": "code",
      "metadata": {
        "id": "OG3pwok1FTka"
      },
      "source": [],
      "execution_count": null,
      "outputs": []
    },
    {
      "cell_type": "markdown",
      "metadata": {
        "id": "RR5xWsOR8wor"
      },
      "source": [
        "**2.2** A remarkable (but practically rather irrelevant) property is that small integers are predefined objects in Python. Run the following code:"
      ]
    },
    {
      "cell_type": "code",
      "metadata": {
        "id": "flj2GDx5lSYu",
        "colab": {
          "base_uri": "https://localhost:8080/"
        },
        "outputId": "e2adf136-5037-4814-981b-6ce28312cd13"
      },
      "source": [
        "a = 1\n",
        "b = 1\n",
        "print(a is b)\n",
        "a = 1000\n",
        "b = 1000\n",
        "print(a is b)"
      ],
      "execution_count": null,
      "outputs": [
        {
          "output_type": "stream",
          "name": "stdout",
          "text": [
            "True\n",
            "False\n"
          ]
        }
      ]
    },
    {
      "cell_type": "markdown",
      "metadata": {
        "id": "fbcmpVQ5lL6L"
      },
      "source": [
        "In the first case (integer ``1``), ``a`` and ``b`` point to the same object (the predefined object equal to integer ``1``). In the second case (integer ``1000``), ``a`` and ``b`` point to the different objects.\n",
        "\n",
        "Use a for-loop and an if-condition to find out what the largest \"predefined\" integer is.\n",
        "\n",
        "><font color='violet'> Hint: To make a true copy of a number, you can multiply it by 1. If you type ``a = b`` then ``a`` and ``b`` will point to the same object in any case. However, if you type ``a = b*1`` then ``a`` and ``b`` will point to different objects, except for small integers. You can exploit this behavior to find out what the largest \"predefined\" integer is."
      ]
    },
    {
      "cell_type": "code",
      "metadata": {
        "id": "ynlUpIQ0ieay"
      },
      "source": [],
      "execution_count": null,
      "outputs": []
    },
    {
      "cell_type": "markdown",
      "metadata": {
        "id": "9XAe1cX5nYGh"
      },
      "source": [
        "Do the same for negative integers."
      ]
    },
    {
      "cell_type": "code",
      "metadata": {
        "id": "Pp_X_qKnnf2w"
      },
      "source": [],
      "execution_count": null,
      "outputs": []
    },
    {
      "cell_type": "markdown",
      "metadata": {
        "id": "KjbCwd7oo4ZE"
      },
      "source": [
        "The phenomenon is called \"integer caching\" and is done for reasons of efficiency; see, for example, https://wsvincent.com/python-wat-integer-cache/."
      ]
    },
    {
      "cell_type": "markdown",
      "metadata": {
        "id": "T_664PG_0ezF"
      },
      "source": [
        "### Complex comprehensions"
      ]
    },
    {
      "cell_type": "markdown",
      "metadata": {
        "id": "IUvqG--QWied"
      },
      "source": [
        "**2.3** Create a list ``L1`` with the values from 0 to 20 in steps of two ``[0, 2, 4, 6...]`` and a list ``L2`` with values going 100 to 90 in reverse order ``[100, 99, 98 ...]`` using the ``range()`` function. Then, write a list comprehension that adds the elements of the two lists (you sould get ``[100, 101, 102, 103, 104, 105, 106, 107, 108, 109, 110]``)."
      ]
    },
    {
      "cell_type": "code",
      "metadata": {
        "id": "ab5onjKfWgyl"
      },
      "source": [],
      "execution_count": null,
      "outputs": []
    },
    {
      "cell_type": "markdown",
      "metadata": {
        "id": "lvHs8OxtS_Kj"
      },
      "source": [
        "**2.4** Consider the following list comprehensions. Can you guess what the output will be? Put ``print()`` around each comprehension to see if you guessed correctly and try to understand how it works."
      ]
    },
    {
      "cell_type": "code",
      "metadata": {
        "id": "J1FnfXBQ0Y6P"
      },
      "source": [
        "names = [\"tomato\", \"carrot\", \"cucumber\"]\n",
        "colors = [\"red\", \"orange\", \"green\"]\n",
        "\n",
        "# 1\n",
        "[[index, name, color] for index, (name, color) in enumerate(zip(names, colors))]\n",
        "\n",
        "# 2\n",
        "[str(index) + letter for index in range(5) for letter in \"abcde\"]\n",
        "\n",
        "# 3\n",
        "[name if name==\"carrot\" else name.upper() for name in names]\n",
        "\n",
        "# 4 \n",
        "my_dict = {'a': 1, 'b': 2, 'c': 3, 'd': 4, 'e': 5}\n",
        "{k.upper():v**2 for k, v in my_dict.items()}"
      ],
      "execution_count": null,
      "outputs": []
    },
    {
      "cell_type": "markdown",
      "metadata": {
        "id": "L9f1AKuHa69n"
      },
      "source": [
        "### Try and except"
      ]
    },
    {
      "cell_type": "markdown",
      "metadata": {
        "id": "dgS5mV_Ei_3_"
      },
      "source": [
        "**2.5.** Consider the following list:"
      ]
    },
    {
      "cell_type": "code",
      "metadata": {
        "id": "Zc8FoMEJjkLu"
      },
      "source": [
        "my_list = [9,3,4,5]"
      ],
      "execution_count": null,
      "outputs": []
    },
    {
      "cell_type": "markdown",
      "metadata": {
        "id": "YBlhkuqgjtGs"
      },
      "source": [
        "What happens if you try to access the fith element of the list?"
      ]
    },
    {
      "cell_type": "code",
      "metadata": {
        "id": "z59pYXxQkH4L"
      },
      "source": [],
      "execution_count": null,
      "outputs": []
    },
    {
      "cell_type": "markdown",
      "metadata": {
        "id": "eE4jZ4uWkXFb"
      },
      "source": [
        "Write a program that tries to print the fifth list element and, if an error ocurrs because the index does not exist (``IndexError``), prints \"Index out of range!\"."
      ]
    },
    {
      "cell_type": "code",
      "metadata": {
        "id": "rr601RzYkWh8"
      },
      "source": [],
      "execution_count": null,
      "outputs": []
    },
    {
      "cell_type": "markdown",
      "metadata": {
        "id": "Kx8Ve2CZmZEH"
      },
      "source": [
        "**2.6.** Write a loop that tries to print the first 10 elements of the ``my_list`` and prints \"index out of range\" whenever an IndexError ocurrs."
      ]
    },
    {
      "cell_type": "code",
      "metadata": {
        "id": "Z02vvIF7mYqX"
      },
      "source": [],
      "execution_count": null,
      "outputs": []
    }
  ]
}